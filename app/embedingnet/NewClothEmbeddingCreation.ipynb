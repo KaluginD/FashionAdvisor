{
 "cells": [
  {
   "cell_type": "code",
   "execution_count": 1,
   "metadata": {},
   "outputs": [],
   "source": [
    "from __future__ import print_function\n",
    "import argparse\n",
    "import os\n",
    "import sys\n",
    "import shutil\n",
    "import json\n",
    "\n",
    "import numpy as np\n",
    "\n",
    "import torch\n",
    "import torch.nn as nn\n",
    "import torch.nn.functional as F\n",
    "import torch.optim as optim\n",
    "from torchvision import transforms\n",
    "from torch.autograd import Variable\n",
    "import torch.backends.cudnn as cudnn\n",
    "\n",
    "import Resnet_18\n",
    "from tripletnet import Tripletnet\n",
    "from type_specific_network import TypeSpecificNet\n",
    "from PIL import Image\n",
    "import pandas as pd"
   ]
  },
  {
   "cell_type": "code",
   "execution_count": 2,
   "metadata": {},
   "outputs": [],
   "source": [
    "import matplotlib.pyplot as plt\n",
    "%matplotlib inline"
   ]
  },
  {
   "cell_type": "code",
   "execution_count": 3,
   "metadata": {},
   "outputs": [
    {
     "data": {
      "text/plain": [
       "'0.1.12_2'"
      ]
     },
     "execution_count": 3,
     "metadata": {},
     "output_type": "execute_result"
    }
   ],
   "source": [
    "torch.__version__"
   ]
  },
  {
   "cell_type": "code",
   "execution_count": 4,
   "metadata": {},
   "outputs": [],
   "source": [
    "datadir = \"./data\""
   ]
  },
  {
   "cell_type": "code",
   "execution_count": 5,
   "metadata": {},
   "outputs": [
    {
     "data": {
      "text/plain": [
       "_StoreAction(option_strings=['--sim_i_loss'], dest='sim_i_loss', nargs=None, const=None, default=5e-05, type=<type 'float'>, choices=None, help='parameter for loss for image-image similarity', metavar='M')"
      ]
     },
     "execution_count": 5,
     "metadata": {},
     "output_type": "execute_result"
    }
   ],
   "source": [
    "parser = argparse.ArgumentParser(description='Fashion Compatibility Example')\n",
    "parser.add_argument('--batch-size', type=int, default=256, metavar='N',\n",
    "                    help='input batch size for training (default: 256)')\n",
    "parser.add_argument('--epochs', type=int, default=10, metavar='N',\n",
    "                    help='number of epochs to train (default: 10)')\n",
    "parser.add_argument('--start_epoch', type=int, default=1, metavar='N',\n",
    "                    help='number of start epoch (default: 1)')\n",
    "parser.add_argument('--lr', type=float, default=5e-5, metavar='LR',\n",
    "                    help='learning rate (default: 5e-5)')\n",
    "parser.add_argument('--seed', type=int, default=1, metavar='S',\n",
    "                    help='random seed (default: 1)')\n",
    "parser.add_argument('--no-cuda', action='store_true', default=False,\n",
    "                    help='enables CUDA training')\n",
    "parser.add_argument('--log-interval', type=int, default=250, metavar='N',\n",
    "                    help='how many batches to wait before logging training status')\n",
    "parser.add_argument('--resume', default='', type=str,\n",
    "                    help='path to latest checkpoint (default: none)')\n",
    "parser.add_argument('--name', default='Type_Specific_Fashion_Compatibility', type=str,\n",
    "                    help='name of experiment')\n",
    "parser.add_argument('--polyvore_split', default='nondisjoint', type=str,\n",
    "                    help='specifies the split of the polyvore data (either disjoint or nondisjoint)')\n",
    "parser.add_argument('--datadir', default='data', type=str,\n",
    "                    help='directory of the polyvore outfits dataset (default: data)')\n",
    "parser.add_argument('--test', dest='test', action='store_true', default=False,\n",
    "                    help='To only run inference on test set')\n",
    "parser.add_argument('--dim_embed', type=int, default=64, metavar='N',\n",
    "                    help='how many dimensions in embedding (default: 64)')\n",
    "parser.add_argument('--use_fc', action='store_true', default=False,\n",
    "                    help='Use a fully connected layer to learn type specific embeddings.')\n",
    "parser.add_argument('--learned', dest='learned', action='store_true', default=False,\n",
    "                    help='To learn masks from random initialization')\n",
    "parser.add_argument('--prein', dest='prein', action='store_true', default=False,\n",
    "                    help='To initialize masks to be disjoint')\n",
    "parser.add_argument('--rand_typespaces', action='store_true', default=False,\n",
    "                    help='randomly assigns comparisons to type-specific embeddings where #comparisons < #embeddings')\n",
    "parser.add_argument('--num_rand_embed', type=int, default=4, metavar='N',\n",
    "                    help='number of random embeddings when rand_typespaces=True')\n",
    "parser.add_argument('--l2_embed', dest='l2_embed', action='store_true', default=False,\n",
    "                    help='L2 normalize the output of the type specific embeddings')\n",
    "parser.add_argument('--learned_metric', dest='learned_metric', action='store_true', default=False,\n",
    "                    help='Learn a distance metric rather than euclidean distance')\n",
    "parser.add_argument('--margin', type=float, default=0.3, metavar='M',\n",
    "                    help='margin for triplet loss (default: 0.2)')\n",
    "parser.add_argument('--embed_loss', type=float, default=5e-4, metavar='M',\n",
    "                    help='parameter for loss for embedding norm')\n",
    "parser.add_argument('--mask_loss', type=float, default=5e-4, metavar='M',\n",
    "                    help='parameter for loss for mask norm')\n",
    "parser.add_argument('--vse_loss', type=float, default=5e-3, metavar='M',\n",
    "                    help='parameter for loss for the visual-semantic embedding')\n",
    "parser.add_argument('--sim_t_loss', type=float, default=5e-5, metavar='M',\n",
    "                    help='parameter for loss for text-text similarity')\n",
    "parser.add_argument('--sim_i_loss', type=float, default=5e-5, metavar='M',\n",
    "                    help='parameter for loss for image-image similarity')"
   ]
  },
  {
   "cell_type": "code",
   "execution_count": 6,
   "metadata": {},
   "outputs": [
    {
     "data": {
      "text/plain": [
       "<torch._C.Generator at 0x103871ab0>"
      ]
     },
     "execution_count": 6,
     "metadata": {},
     "output_type": "execute_result"
    }
   ],
   "source": [
    "global args\n",
    "args = parser.parse_args(args=['--test', \"--l2_embed\", \"--resume\", \"runs/nondisjoint_l2norm/model_best.pth.tar\"])\n",
    "args.cuda = False #not args.no_cuda and torch.cuda.is_available()\n",
    "torch.manual_seed(args.seed)"
   ]
  },
  {
   "cell_type": "code",
   "execution_count": 7,
   "metadata": {},
   "outputs": [],
   "source": [
    "args.datadir=datadir"
   ]
  },
  {
   "cell_type": "code",
   "execution_count": 8,
   "metadata": {},
   "outputs": [
    {
     "data": {
      "text/plain": [
       "'runs/nondisjoint_l2norm/model_best.pth.tar'"
      ]
     },
     "execution_count": 8,
     "metadata": {},
     "output_type": "execute_result"
    }
   ],
   "source": [
    "args.resume"
   ]
  },
  {
   "cell_type": "code",
   "execution_count": 9,
   "metadata": {},
   "outputs": [],
   "source": [
    "df = pd.read_csv(\"typespaces.csv\")"
   ]
  },
  {
   "cell_type": "code",
   "execution_count": 10,
   "metadata": {},
   "outputs": [],
   "source": [
    "del df[\"Unnamed: 0\"]"
   ]
  },
  {
   "cell_type": "code",
   "execution_count": 11,
   "metadata": {},
   "outputs": [],
   "source": [
    "keys = df['0'].values\n",
    "values = df['1'].values"
   ]
  },
  {
   "cell_type": "code",
   "execution_count": 12,
   "metadata": {},
   "outputs": [],
   "source": [
    "typespaces=dict(zip(keys,values))\n",
    "text_feature_dim = 6000"
   ]
  },
  {
   "cell_type": "code",
   "execution_count": 13,
   "metadata": {},
   "outputs": [],
   "source": [
    "model = Resnet_18.resnet18(pretrained=True, embedding_size=args.dim_embed)\n",
    "csn_model = TypeSpecificNet(args, model, len(typespaces))\n",
    "\n",
    "criterion = torch.nn.MarginRankingLoss(margin = args.margin)\n",
    "tnet = Tripletnet(args, csn_model, text_feature_dim, criterion)"
   ]
  },
  {
   "cell_type": "code",
   "execution_count": 16,
   "metadata": {},
   "outputs": [
    {
     "name": "stdout",
     "output_type": "stream",
     "text": [
      "=> loading checkpoint 'runs/nondisjoint_l2norm/model_best.pth.tar'\n",
      "=> loaded checkpoint 'runs/nondisjoint_l2norm/model_best.pth.tar' (epoch 5)\n"
     ]
    }
   ],
   "source": [
    "if os.path.isfile(args.resume):\n",
    "        print(\"=> loading checkpoint '{}'\".format(args.resume))\n",
    "        checkpoint = torch.load(args.resume, map_location=lambda storage, loc: storage)\n",
    "        args.start_epoch = checkpoint['epoch']\n",
    "        best_acc = checkpoint['best_prec1']\n",
    "        tnet.load_state_dict(checkpoint['state_dict'])\n",
    "        print(\"=> loaded checkpoint '{}' (epoch {})\"\n",
    "                .format(args.resume, checkpoint['epoch']))\n",
    "else:\n",
    "        print(\"=> no checkpoint found at '{}'\".format(args.resume))"
   ]
  },
  {
   "cell_type": "code",
   "execution_count": 27,
   "metadata": {},
   "outputs": [],
   "source": [
    "old_codes = [\n",
    " 'null',\n",
    " 'bag',\n",
    " 'belt',\n",
    " 'boots',\n",
    " 'footwear',\n",
    " 'outer',\n",
    " 'dress',\n",
    " 'sunglasses',\n",
    " 'pants',\n",
    " 'top',\n",
    " 'shorts',\n",
    " 'skirt',\n",
    " 'headwear',\n",
    " 'scarf & tie']\n",
    "\n",
    "new_codes = ['tops',\n",
    " 'shoes',\n",
    " 'all-body',\n",
    " 'scarves',\n",
    " 'outerwear',\n",
    " 'accessories',\n",
    " 'hats',\n",
    " 'bags',\n",
    " 'bottoms',\n",
    " 'sunglasses']\n",
    "\n",
    "matches = {\n",
    " 'bag':'bags',\n",
    " 'belt':'accessories',\n",
    " 'boots':'shoes',\n",
    " 'footwear':'shoes',\n",
    " 'outer':'outerwear',\n",
    " 'dress':'all-body',\n",
    " 'sunglasses':'sunglasses',\n",
    " 'pants':'bottoms',\n",
    " 'top':'tops',\n",
    " 'shorts':'bottoms',\n",
    " 'skirt':'bottoms',\n",
    " 'headwear':'hats',\n",
    " 'scarf & tie':'scarves'}\n",
    "\n",
    "old_code_to_new_and_name = {i + 1 : (new_codes.index(matches[name]) + 1, matches[name]) for i, name in enumerate(old_codes[1:])}\n",
    "\n",
    "def get_parts_by_mask(img, mask_true):\n",
    "    mask = np.copy(mask_true)\n",
    "    mask_ = np.copy(mask)\n",
    "    for key, value in old_code_to_new_and_name.items():\n",
    "        #if key == 7:\n",
    "        #   print(value)\n",
    "        mask[mask_==key] = value[0]\n",
    "    classes = set(mask.flatten())\n",
    "    #print(classes)\n",
    "    resized_mask = np.round(np.array(Image.fromarray(np.uint8(mask), 'L').resize(reversed(img.shape[:2]))))\n",
    "    classes = list(set(mask.flatten()))\n",
    "    if 0 in classes:\n",
    "        classes.remove(0)\n",
    "    #print('classes:', classes)\n",
    "    final_imgs = []\n",
    "    for cls in classes:\n",
    "        #print(cls, new_codes[cls - 1])\n",
    "        curr_mask = (resized_mask == cls) * 1.\n",
    "        new_img = np.zeros(img.shape)\n",
    "        new_img[:, :, 0] = np.multiply(img[:, :, 0], curr_mask)\n",
    "        new_img[:, :, 1] = np.multiply(img[:, :, 1], curr_mask)\n",
    "        new_img[:, :, 2] = np.multiply(img[:, :, 2], curr_mask)\n",
    "        new_img[new_img==0] = 255.\n",
    "        new_img = new_img.astype(np.uint8)\n",
    "        axis0 = np.where(curr_mask.sum(axis=0) > 0)[0]\n",
    "        axis1 = np.where(curr_mask.sum(axis=1) > 0)[0]\n",
    "        min_x, max_x = min(axis0), max(axis0)\n",
    "        min_y, max_y = min(axis1), max(axis1)\n",
    "        new_img = new_img[min_y : max_y, min_x : max_x]\n",
    "        N, M, _ = new_img.shape\n",
    "        d = int(max(N, M) / 10)\n",
    "        D = max(N, M) + 2 * d\n",
    "        img_to_reshape = np.ones((D, D, 3)) * 255.\n",
    "        if N > M:\n",
    "            y = d + int((D - M) / 2)\n",
    "            img_to_reshape[d:N + d, y - d:y - d + M, :] = new_img\n",
    "        else:\n",
    "            x = d + int((D - N) / 2)\n",
    "            img_to_reshape[x - d : x - d + N, d : M + d] = new_img\n",
    "        img_to_reshape = img_to_reshape.astype(np.uint8)\n",
    "        sized_img = Image.fromarray(img_to_reshape).resize((112, 112))\n",
    "        final_imgs.append((sized_img, new_codes[cls - 1]))\n",
    "    return final_imgs"
   ]
  },
  {
   "cell_type": "code",
   "execution_count": 18,
   "metadata": {},
   "outputs": [
    {
     "data": {
      "text/plain": [
       "{1: (8, 'bags'),\n",
       " 2: (6, 'accessories'),\n",
       " 3: (2, 'shoes'),\n",
       " 4: (2, 'shoes'),\n",
       " 5: (5, 'outerwear'),\n",
       " 6: (3, 'all-body'),\n",
       " 7: (10, 'sunglasses'),\n",
       " 8: (9, 'bottoms'),\n",
       " 9: (1, 'tops'),\n",
       " 10: (9, 'bottoms'),\n",
       " 11: (9, 'bottoms'),\n",
       " 12: (7, 'hats'),\n",
       " 13: (4, 'scarves')}"
      ]
     },
     "execution_count": 18,
     "metadata": {},
     "output_type": "execute_result"
    }
   ],
   "source": [
    "old_code_to_new_and_name"
   ]
  },
  {
   "cell_type": "code",
   "execution_count": 20,
   "metadata": {},
   "outputs": [],
   "source": [
    "im = Image.open(\"/Users/nikitakaraev/Desktop/PROJET_DEEP_LEARNING/FACEBOOKHACK/0000731.jpg\")"
   ]
  },
  {
   "cell_type": "code",
   "execution_count": 21,
   "metadata": {},
   "outputs": [],
   "source": [
    "mask=Image.open(\"/Users/nikitakaraev/Desktop/PROJET_DEEP_LEARNING/FACEBOOKHACK/0000731.png\")"
   ]
  },
  {
   "cell_type": "code",
   "execution_count": 22,
   "metadata": {},
   "outputs": [],
   "source": [
    "imarr=np.array(im)\n",
    "maskarr=np.array(mask).squeeze()"
   ]
  },
  {
   "cell_type": "code",
   "execution_count": 23,
   "metadata": {},
   "outputs": [
    {
     "data": {
      "text/plain": [
       "(600, 400, 3)"
      ]
     },
     "execution_count": 23,
     "metadata": {},
     "output_type": "execute_result"
    }
   ],
   "source": [
    "imarr.shape"
   ]
  },
  {
   "cell_type": "code",
   "execution_count": 24,
   "metadata": {},
   "outputs": [
    {
     "data": {
      "text/plain": [
       "<matplotlib.image.AxesImage at 0x10d0c5dd0>"
      ]
     },
     "execution_count": 24,
     "metadata": {},
     "output_type": "execute_result"
    },
    {
     "data": {
      "image/png": "[encoded data removed]",
      "text/plain": [
       "<matplotlib.figure.Figure at 0x10b45fd90>"
      ]
     },
     "metadata": {},
     "output_type": "display_data"
    }
   ],
   "source": [
    "plt.imshow(maskarr)"
   ]
  },
  {
   "cell_type": "code",
   "execution_count": 25,
   "metadata": {},
   "outputs": [
    {
     "data": {
      "text/plain": [
       "(600, 400)"
      ]
     },
     "execution_count": 25,
     "metadata": {},
     "output_type": "execute_result"
    }
   ],
   "source": [
    "maskarr.shape"
   ]
  },
  {
   "cell_type": "code",
   "execution_count": 28,
   "metadata": {},
   "outputs": [],
   "source": [
    "cloth_images = get_parts_by_mask(imarr, maskarr)"
   ]
  },
  {
   "cell_type": "code",
   "execution_count": 29,
   "metadata": {},
   "outputs": [
    {
     "data": {
      "text/plain": [
       "[(<PIL.Image.Image image mode=RGB size=112x112 at 0x10D0CD650>, 'tops'),\n",
       " (<PIL.Image.Image image mode=RGB size=112x112 at 0x10B46D810>, 'shoes'),\n",
       " (<PIL.Image.Image image mode=RGB size=112x112 at 0x10B46D710>, 'accessories'),\n",
       " (<PIL.Image.Image image mode=RGB size=112x112 at 0x10B46D9D0>, 'bottoms'),\n",
       " (<PIL.Image.Image image mode=RGB size=112x112 at 0x10B46DA10>, 'sunglasses')]"
      ]
     },
     "execution_count": 29,
     "metadata": {},
     "output_type": "execute_result"
    }
   ],
   "source": [
    "cloth_images"
   ]
  },
  {
   "cell_type": "code",
   "execution_count": 34,
   "metadata": {},
   "outputs": [
    {
     "data": {
      "image/png": "[encoded data removed]",
      "text/plain": [
       "<PIL.Image.Image image mode=RGB size=112x112 at 0x10B46DA10>"
      ]
     },
     "execution_count": 34,
     "metadata": {},
     "output_type": "execute_result"
    }
   ],
   "source": [
    "cloth_images[4][0]"
   ]
  },
  {
   "cell_type": "code",
   "execution_count": 35,
   "metadata": {},
   "outputs": [],
   "source": [
    "torch.manual_seed(1)\n",
    "normalize = transforms.Normalize(mean=[0.485, 0.456, 0.406],\n",
    "                                 std=[0.229, 0.224, 0.225])\n",
    "transform=transforms.Compose([\n",
    "     transforms.ToTensor(),\n",
    "     normalize\n",
    "])"
   ]
  },
  {
   "cell_type": "code",
   "execution_count": 36,
   "metadata": {},
   "outputs": [],
   "source": [
    "transformedImage = transform(cloth_images[0][0])"
   ]
  },
  {
   "cell_type": "code",
   "execution_count": 37,
   "metadata": {},
   "outputs": [
    {
     "data": {
      "text/plain": [
       "Variable containing:\n",
       "( 0 ,.,.) = \n",
       "  2.2489  2.2489  2.2489  ...   2.2489  2.2489  2.2489\n",
       "  2.2489  2.2489  2.2489  ...   2.2489  2.2489  2.2489\n",
       "  2.2489  2.2489  2.2489  ...   2.2489  2.2489  2.2489\n",
       "           ...             ⋱             ...          \n",
       "  2.2489  2.2489  2.2489  ...   2.2489  2.2489  2.2489\n",
       "  2.2489  2.2489  2.2489  ...   2.2489  2.2489  2.2489\n",
       "  2.2489  2.2489  2.2489  ...   2.2489  2.2489  2.2489\n",
       "\n",
       "( 1 ,.,.) = \n",
       "  2.4286  2.4286  2.4286  ...   2.4286  2.4286  2.4286\n",
       "  2.4286  2.4286  2.4286  ...   2.4286  2.4286  2.4286\n",
       "  2.4286  2.4286  2.4286  ...   2.4286  2.4286  2.4286\n",
       "           ...             ⋱             ...          \n",
       "  2.4286  2.4286  2.4286  ...   2.4286  2.4286  2.4286\n",
       "  2.4286  2.4286  2.4286  ...   2.4286  2.4286  2.4286\n",
       "  2.4286  2.4286  2.4286  ...   2.4286  2.4286  2.4286\n",
       "\n",
       "( 2 ,.,.) = \n",
       "  2.6400  2.6400  2.6400  ...   2.6400  2.6400  2.6400\n",
       "  2.6400  2.6400  2.6400  ...   2.6400  2.6400  2.6400\n",
       "  2.6400  2.6400  2.6400  ...   2.6400  2.6400  2.6400\n",
       "           ...             ⋱             ...          \n",
       "  2.6400  2.6400  2.6400  ...   2.6400  2.6400  2.6400\n",
       "  2.6400  2.6400  2.6400  ...   2.6400  2.6400  2.6400\n",
       "  2.6400  2.6400  2.6400  ...   2.6400  2.6400  2.6400\n",
       "[torch.FloatTensor of size 3x112x112]"
      ]
     },
     "execution_count": 37,
     "metadata": {},
     "output_type": "execute_result"
    }
   ],
   "source": [
    "ims=Variable(transformedImage); ims"
   ]
  },
  {
   "cell_type": "code",
   "execution_count": 38,
   "metadata": {},
   "outputs": [],
   "source": [
    "cudnn.benchmark = True    "
   ]
  },
  {
   "cell_type": "code",
   "execution_count": 39,
   "metadata": {},
   "outputs": [],
   "source": [
    "tnet.eval();"
   ]
  },
  {
   "cell_type": "code",
   "execution_count": 41,
   "metadata": {},
   "outputs": [],
   "source": [
    "embedding = tnet.embeddingnet(ims.unsqueeze(0)).data"
   ]
  },
  {
   "cell_type": "code",
   "execution_count": 42,
   "metadata": {},
   "outputs": [
    {
     "data": {
      "text/plain": [
       "torch.Size([1, 67, 64])"
      ]
     },
     "execution_count": 42,
     "metadata": {},
     "output_type": "execute_result"
    }
   ],
   "source": [
    "embedding.size()"
   ]
  }
 ],
 "metadata": {
  "kernelspec": {
   "display_name": "py36-test",
   "language": "python",
   "name": "py36-test"
  },
  "language_info": {
   "codemirror_mode": {
    "name": "ipython",
    "version": 2
   },
   "file_extension": ".py",
   "mimetype": "text/x-python",
   "name": "python",
   "nbconvert_exporter": "python",
   "pygments_lexer": "ipython2",
   "version": "2.7.6"
  }
 },
 "nbformat": 4,
 "nbformat_minor": 2
}
